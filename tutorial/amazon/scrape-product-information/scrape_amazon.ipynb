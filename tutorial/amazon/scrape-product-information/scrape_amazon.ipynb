{
 "cells": [
  {
   "cell_type": "code",
   "execution_count": 2,
   "metadata": {},
   "outputs": [],
   "source": [
    "import pandas as pd\n",
    "import numpy as np\n",
    "import matplotlib.pyplot as plt\n",
    "import seaborn as sns\n",
    "\n",
    "import re\n",
    "import time\n",
    "from datetime import datetime\n",
    "import matplotlib.dates as mdates\n",
    "import matplotlib.ticker as ticker\n",
    "from urllib.request import urlopen\n",
    "from bs4 import BeautifulSoup\n",
    "import requests\n",
    "\n",
    "%matplotlib inline"
   ]
  },
  {
   "cell_type": "markdown",
   "metadata": {},
   "source": [
    "#### Creating a User-Agent\n",
    "\n",
    "Many websites have certain protocols for blocking robots from accessing data. Therefore, in order to extract data from a script, we need to create a User-Agent. The User-Agent is basically a string that tells the server about the type of host sending the request.\n",
    "\n",
    "You can choose user agents from the following [website](https://developers.whatismybrowser.com/)."
   ]
  },
  {
   "cell_type": "code",
   "execution_count": 3,
   "metadata": {},
   "outputs": [],
   "source": [
    "HEADERS = ({'User-Agent':\n",
    "            'Mozilla/5.0 (X11; Linux x86_64) AppleWebKit/537.36 (KHTML, like Gecko) Chrome/44.0.2403.157 Safari/537.36',\n",
    "            'Accept-Language': 'en-US, en;q=0.5'})\n",
    "\n",
    "# There is an extra field in HEADERS called “Accept-Language”, which translates the webpage to English-US, if needed."
   ]
  },
  {
   "cell_type": "markdown",
   "metadata": {},
   "source": [
    "#### Sending a Request to a URL\n",
    "A webpage is accessed by its URL (Uniform Resource Locator). With the help of the URL, we will send the request to the webpage for accessing its data."
   ]
  },
  {
   "cell_type": "code",
   "execution_count": 4,
   "metadata": {},
   "outputs": [],
   "source": [
    "URL = \"https://www.amazon.com/Sony-PlayStation-Pro-1TB-Console-4/dp/B07K14XKZH/\"\n",
    "\n",
    "webpage = requests.get(URL, headers=HEADERS)"
   ]
  },
  {
   "cell_type": "markdown",
   "metadata": {},
   "source": [
    "#### Creating a Soup of Information\n",
    "\n",
    "The `webpage` variable contains a response received by the website. We pass the content of the response and the type of parser to the Beautiful Soup function."
   ]
  },
  {
   "cell_type": "code",
   "execution_count": 5,
   "metadata": {},
   "outputs": [],
   "source": [
    "soup = BeautifulSoup(webpage.content, \"lxml\")"
   ]
  },
  {
   "cell_type": "markdown",
   "metadata": {},
   "source": [
    "`lxml` is a high-speed parser employed by Beautiful Soup to break down the HTML page into complex Python objects. Generally, there are four kinds of Python Objects obtained:\n",
    "\n",
    "- `Tag` - It corresponds to HTML or XML tags, which include names and attributes.\n",
    "- `NavigableString` - It corresponds to the text stored within a tag.\n",
    "- `BeautifulSoup` - In fact, the entire parsed document.\n",
    "- `Comments` - Finally, the leftover pieces of the HTML page that is not included in the above three categories."
   ]
  },
  {
   "cell_type": "markdown",
   "metadata": {},
   "source": [
    "#### Extracting Product Title"
   ]
  },
  {
   "cell_type": "code",
   "execution_count": 7,
   "metadata": {},
   "outputs": [
    {
     "name": "stdout",
     "output_type": "stream",
     "text": [
      "<class 'bs4.element.Tag'>\n",
      "<class 'bs4.element.NavigableString'>\n"
     ]
    }
   ],
   "source": [
    "# Outer Tag Object\n",
    "title = soup.find(\"span\", attrs={\"id\": \"productTitle\"})\n",
    "\n",
    "# Inner NavigableString Object\n",
    "title_value = title.string\n",
    "\n",
    "# Print types of values to understand each object type\n",
    "print(type(title))\n",
    "print(type(title_value))"
   ]
  },
  {
   "cell_type": "code",
   "execution_count": 8,
   "metadata": {},
   "outputs": [
    {
     "name": "stdout",
     "output_type": "stream",
     "text": [
      "        Sony PlayStation 4 Pro 1TB Console - Black (PS4 Pro)       \n",
      "<class 'str'>\n",
      "Sony PlayStation 4 Pro 1TB Console - Black (PS4 Pro)\n"
     ]
    }
   ],
   "source": [
    "# Print NavigableString\n",
    "print(title_value)\n",
    "\n",
    "# Strip extra spaces of variable\n",
    "title_string = title_value.strip()\n",
    "print(type(title_string))\n",
    "print(title_string)"
   ]
  },
  {
   "cell_type": "markdown",
   "metadata": {},
   "source": [
    "#### Extracting Product Information\n",
    "\n",
    "- `The Title of the Product`\n",
    "- `The Price of the Product`\n",
    "- `The Rating of the Product`\n",
    "- `Number of Customer Reviews`\n",
    "- `Product Availability`"
   ]
  },
  {
   "cell_type": "code",
   "execution_count": 13,
   "metadata": {},
   "outputs": [
    {
     "name": "stdout",
     "output_type": "stream",
     "text": [
      "Product Title = Sony PlayStation 4 Pro 1TB Console - Black (PS4 Pro)\n",
      "Product Price = $541.99\n",
      "Product Rating = 4.6 out of 5 stars\n",
      "Number of Product Reviews = 4,080 ratings\n",
      "Availability = In Stock.\n"
     ]
    }
   ],
   "source": [
    "from bs4 import BeautifulSoup\n",
    "import requests\n",
    "\n",
    "# Function to extract Product Title\n",
    "def get_title(soup):\n",
    "\t\n",
    "\ttry:\n",
    "\t\t# Outer Tag Object\n",
    "\t\ttitle = soup.find(\"span\", attrs={\"id\":'productTitle'})\n",
    "\n",
    "\t\t# Inner NavigableString Object\n",
    "\t\ttitle_value = title.string\n",
    "\n",
    "\t\t# Title as a string value\n",
    "\t\ttitle_string = title_value.strip()\n",
    "\n",
    "\texcept AttributeError:\n",
    "\t\ttitle_string = \"\"\t\n",
    "\n",
    "\treturn title_string\n",
    "\n",
    "# Function to extract Product Price\n",
    "def get_price(soup):\n",
    "\n",
    "\ttry:\n",
    "\t\tprice = soup.find(\"span\", attrs={'class':'a-size-base a-color-price offer-price a-text-normal'}).string.strip()\n",
    "\n",
    "\texcept AttributeError:\n",
    "\t\tprice = \"\"\t\n",
    "\n",
    "\treturn price\n",
    "\n",
    "# Function to extract Product Rating\n",
    "def get_rating(soup):\n",
    "\n",
    "\ttry:\n",
    "\t\trating = soup.find(\"i\", attrs={'class':'a-icon a-icon-star a-star-4-5'}).string.strip()\n",
    "\t\t\n",
    "\texcept AttributeError:\n",
    "\t\t\n",
    "\t\ttry:\n",
    "\t\t\trating = soup.find(\"span\", attrs={'class':'a-icon-alt'}).string.strip()\n",
    "\t\texcept:\n",
    "\t\t\trating = \"\"\t\n",
    "\n",
    "\treturn rating\n",
    "\n",
    "# Function to extract Number of User Reviews\n",
    "def get_review_count(soup):\n",
    "\ttry:\n",
    "\t\treview_count = soup.find(\"span\", attrs={'id':'acrCustomerReviewText'}).string.strip()\n",
    "\t\t\n",
    "\texcept AttributeError:\n",
    "\t\treview_count = \"\"\t\n",
    "\n",
    "\treturn review_count\n",
    "\n",
    "# Function to extract Availability Status\n",
    "def get_availability(soup):\n",
    "\ttry:\n",
    "\t\tavailable = soup.find(\"div\", attrs={'id':'availability'})\n",
    "\t\tavailable = available.find(\"span\").string.strip()\n",
    "\n",
    "\texcept AttributeError:\n",
    "\t\tavailable = \"\"\t\n",
    "\n",
    "\treturn available\t\n",
    "\n",
    "# Headers for request\n",
    "HEADERS = ({'User-Agent':\n",
    "\t\t\t'Mozilla/5.0 (X11; Linux x86_64) AppleWebKit/537.36 (KHTML, like Gecko) Chrome/44.0.2403.157 Safari/537.36',\n",
    "\t\t\t'Accept-Language': 'en-US, en;q=0.5'})\n",
    "\n",
    "# The webpage URL\n",
    "URL = \"https://www.amazon.com/Sony-PlayStation-Pro-1TB-Console-4/dp/B07K14XKZH/\"\n",
    "\n",
    "# HTTP Request\n",
    "webpage = requests.get(URL, headers=HEADERS)\n",
    "\n",
    "# Soup Object containing all data\n",
    "soup = BeautifulSoup(webpage.content, \"lxml\")\n",
    "\n",
    "# Function calls to display all necessary product information\n",
    "print(\"Product Title =\", get_title(soup))\n",
    "print(\"Product Price =\", get_price(soup))\n",
    "print(\"Product Rating =\", get_rating(soup))\n",
    "print(\"Number of Product Reviews =\", get_review_count(soup))\n",
    "print(\"Availability =\", get_availability(soup))"
   ]
  },
  {
   "cell_type": "markdown",
   "metadata": {},
   "source": [
    "#### Fetching Links from an Amazon Search Result Webpage"
   ]
  },
  {
   "cell_type": "code",
   "execution_count": 6,
   "metadata": {},
   "outputs": [],
   "source": [
    "URL = \"https://www.amazon.com/s?k=playstation+4&ref=nb_sb_noss_2\"\n",
    "HEADERS = ({'User-Agent':\n",
    "            'Mozilla/5.0 (X11; Linux x86_64) AppleWebKit/537.36 (KHTML, like Gecko) Chrome/44.0.2403.157 Safari/537.36',\n",
    "            'Accept-Language': 'en-US, en;q=0.5'})\n",
    "\n",
    "webpage = requests.get(URL, headers=HEADERS)\n",
    "soup = BeautifulSoup(webpage.content, 'lxml')"
   ]
  },
  {
   "cell_type": "code",
   "execution_count": 7,
   "metadata": {},
   "outputs": [],
   "source": [
    "# Fetch links as List of Tag Objects\n",
    "links = soup.find_all(\"a\", attrs={'class': 'a-link-normal s-underline-text s-underline-link-text s-link-style a-text-normal'})"
   ]
  },
  {
   "cell_type": "code",
   "execution_count": 10,
   "metadata": {},
   "outputs": [],
   "source": [
    "# Store the links\n",
    "links_list = []\n",
    "\n",
    "# Loop for extracting links from Tag Objects\n",
    "for link in links:\n",
    "    links_list.append(link.get('href'))"
   ]
  },
  {
   "cell_type": "code",
   "execution_count": 15,
   "metadata": {},
   "outputs": [],
   "source": [
    "# Loop for extracting product details from each link \n",
    "amazon_product = {\n",
    "    'product_title': [],\n",
    "    'product_price': [],\n",
    "    'product_rating': [],\n",
    "    'no_of_reviews': [],\n",
    "    'get_availability': []\n",
    "}\n",
    "\n",
    "for link in links_list:\n",
    "    \n",
    "    new_webpage = requests.get(\"https://www.amazon.com\" + link, headers=HEADERS)\n",
    "    new_soup = BeautifulSoup(new_webpage.content, \"lxml\")\n",
    "    \n",
    "    amazon_product['product_title'].append(get_title(new_soup))\n",
    "    amazon_product['product_price'].append(get_price(new_soup))\n",
    "    amazon_product['product_rating'].append(get_rating(new_soup))\n",
    "    amazon_product['no_of_reviews'].append(get_review_count(new_soup))\n",
    "    amazon_product['get_availability'].append(get_availability(new_soup))"
   ]
  },
  {
   "cell_type": "code",
   "execution_count": 21,
   "metadata": {},
   "outputs": [
    {
     "data": {
      "text/html": [
       "<div>\n",
       "<style scoped>\n",
       "    .dataframe tbody tr th:only-of-type {\n",
       "        vertical-align: middle;\n",
       "    }\n",
       "\n",
       "    .dataframe tbody tr th {\n",
       "        vertical-align: top;\n",
       "    }\n",
       "\n",
       "    .dataframe thead th {\n",
       "        text-align: right;\n",
       "    }\n",
       "</style>\n",
       "<table border=\"1\" class=\"dataframe\">\n",
       "  <thead>\n",
       "    <tr style=\"text-align: right;\">\n",
       "      <th></th>\n",
       "      <th>product_title</th>\n",
       "      <th>product_price</th>\n",
       "      <th>product_rating</th>\n",
       "      <th>no_of_reviews</th>\n",
       "      <th>get_availability</th>\n",
       "    </tr>\n",
       "  </thead>\n",
       "  <tbody>\n",
       "    <tr>\n",
       "      <th>0</th>\n",
       "      <td>Sony PlayStation 4 Camera</td>\n",
       "      <td></td>\n",
       "      <td>4.7 out of 5 stars</td>\n",
       "      <td>6,585 ratings</td>\n",
       "      <td></td>\n",
       "    </tr>\n",
       "    <tr>\n",
       "      <th>1</th>\n",
       "      <td>PlayStation 4 500GB Console (Renewed)</td>\n",
       "      <td></td>\n",
       "      <td>4.2 out of 5 stars</td>\n",
       "      <td>188 ratings</td>\n",
       "      <td>Only 8 left in stock - order soon.</td>\n",
       "    </tr>\n",
       "    <tr>\n",
       "      <th>2</th>\n",
       "      <td>PlayStation 4 Slim 1TB Console (Renewed)</td>\n",
       "      <td></td>\n",
       "      <td>4.4 out of 5 stars</td>\n",
       "      <td>783 ratings</td>\n",
       "      <td>Only 8 left in stock - order soon.</td>\n",
       "    </tr>\n",
       "    <tr>\n",
       "      <th>3</th>\n",
       "      <td>Case Club Waterproof Playstation 4 Portable Ga...</td>\n",
       "      <td></td>\n",
       "      <td>4.4 out of 5 stars</td>\n",
       "      <td>431 ratings</td>\n",
       "      <td>In Stock.</td>\n",
       "    </tr>\n",
       "    <tr>\n",
       "      <th>4</th>\n",
       "      <td>BlueFire Stereo Gaming Headset for Playstation...</td>\n",
       "      <td></td>\n",
       "      <td>4.4 out of 5 stars</td>\n",
       "      <td>8,118 ratings</td>\n",
       "      <td>In Stock.</td>\n",
       "    </tr>\n",
       "  </tbody>\n",
       "</table>\n",
       "</div>"
      ],
      "text/plain": [
       "                                       product_title product_price  \\\n",
       "0                          Sony PlayStation 4 Camera                 \n",
       "1              PlayStation 4 500GB Console (Renewed)                 \n",
       "2           PlayStation 4 Slim 1TB Console (Renewed)                 \n",
       "3  Case Club Waterproof Playstation 4 Portable Ga...                 \n",
       "4  BlueFire Stereo Gaming Headset for Playstation...                 \n",
       "\n",
       "       product_rating  no_of_reviews                    get_availability  \n",
       "0  4.7 out of 5 stars  6,585 ratings                                      \n",
       "1  4.2 out of 5 stars    188 ratings  Only 8 left in stock - order soon.  \n",
       "2  4.4 out of 5 stars    783 ratings  Only 8 left in stock - order soon.  \n",
       "3  4.4 out of 5 stars    431 ratings                           In Stock.  \n",
       "4  4.4 out of 5 stars  8,118 ratings                           In Stock.  "
      ]
     },
     "execution_count": 21,
     "metadata": {},
     "output_type": "execute_result"
    }
   ],
   "source": [
    "df = pd.DataFrame.from_dict(amazon_product)\n",
    "df.head()"
   ]
  },
  {
   "cell_type": "code",
   "execution_count": 22,
   "metadata": {},
   "outputs": [
    {
     "data": {
      "text/plain": [
       "(30, 5)"
      ]
     },
     "execution_count": 22,
     "metadata": {},
     "output_type": "execute_result"
    }
   ],
   "source": [
    "df.shape"
   ]
  },
  {
   "cell_type": "code",
   "execution_count": 31,
   "metadata": {},
   "outputs": [
    {
     "data": {
      "text/html": [
       "<div>\n",
       "<style scoped>\n",
       "    .dataframe tbody tr th:only-of-type {\n",
       "        vertical-align: middle;\n",
       "    }\n",
       "\n",
       "    .dataframe tbody tr th {\n",
       "        vertical-align: top;\n",
       "    }\n",
       "\n",
       "    .dataframe thead th {\n",
       "        text-align: right;\n",
       "    }\n",
       "</style>\n",
       "<table border=\"1\" class=\"dataframe\">\n",
       "  <thead>\n",
       "    <tr style=\"text-align: right;\">\n",
       "      <th></th>\n",
       "      <th>product_title</th>\n",
       "      <th>product_price</th>\n",
       "      <th>product_rating</th>\n",
       "      <th>no_of_reviews</th>\n",
       "      <th>get_availability</th>\n",
       "    </tr>\n",
       "  </thead>\n",
       "  <tbody>\n",
       "    <tr>\n",
       "      <th>21</th>\n",
       "      <td>DualShock 4 Wireless Controller for PlayStatio...</td>\n",
       "      <td>$57.99</td>\n",
       "      <td>4.6 out of 5 stars</td>\n",
       "      <td>135,000 ratings</td>\n",
       "      <td>Only 10 left in stock - order soon.</td>\n",
       "    </tr>\n",
       "  </tbody>\n",
       "</table>\n",
       "</div>"
      ],
      "text/plain": [
       "                                        product_title product_price  \\\n",
       "21  DualShock 4 Wireless Controller for PlayStatio...        $57.99   \n",
       "\n",
       "        product_rating    no_of_reviews                     get_availability  \n",
       "21  4.6 out of 5 stars  135,000 ratings  Only 10 left in stock - order soon.  "
      ]
     },
     "execution_count": 31,
     "metadata": {},
     "output_type": "execute_result"
    }
   ],
   "source": [
    "df[df['product_price'] == df['product_price'].max()]"
   ]
  }
 ],
 "metadata": {
  "kernelspec": {
   "display_name": "Python 3.8.13 ('webscraper-env')",
   "language": "python",
   "name": "python3"
  },
  "language_info": {
   "codemirror_mode": {
    "name": "ipython",
    "version": 3
   },
   "file_extension": ".py",
   "mimetype": "text/x-python",
   "name": "python",
   "nbconvert_exporter": "python",
   "pygments_lexer": "ipython3",
   "version": "3.8.13"
  },
  "orig_nbformat": 4,
  "vscode": {
   "interpreter": {
    "hash": "9fee31d813151a463468eb8ec83faa2a296eb6a304cfd377b18128ac798bdd56"
   }
  }
 },
 "nbformat": 4,
 "nbformat_minor": 2
}
